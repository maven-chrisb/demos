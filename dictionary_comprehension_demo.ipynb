{
 "cells": [
  {
   "cell_type": "code",
   "execution_count": 1,
   "id": "44ad788c",
   "metadata": {},
   "outputs": [],
   "source": [
    "import numpy as np"
   ]
  },
  {
   "cell_type": "code",
   "execution_count": 2,
   "id": "f69a5efb",
   "metadata": {},
   "outputs": [],
   "source": [
    "items = ['skis', 'snowboards', 'goggles', 'boots']\n",
    "\n",
    "ratings = [[4, 5], [3, 5], [4, 2], [1, 3]]"
   ]
  },
  {
   "cell_type": "code",
   "execution_count": 6,
   "id": "08901044",
   "metadata": {},
   "outputs": [
    {
     "data": {
      "text/plain": [
       "{'skis': 4.5, 'snowboards': 4.0}"
      ]
     },
     "execution_count": 6,
     "metadata": {},
     "output_type": "execute_result"
    }
   ],
   "source": [
    "{item: np.mean(rating) \n",
    " for item, rating in zip(items, ratings) \n",
    " if np.mean(rating) >= 4}"
   ]
  },
  {
   "cell_type": "code",
   "execution_count": null,
   "id": "d3062827",
   "metadata": {},
   "outputs": [],
   "source": []
  }
 ],
 "metadata": {
  "kernelspec": {
   "display_name": "Python 3 (ipykernel)",
   "language": "python",
   "name": "python3"
  },
  "language_info": {
   "codemirror_mode": {
    "name": "ipython",
    "version": 3
   },
   "file_extension": ".py",
   "mimetype": "text/x-python",
   "name": "python",
   "nbconvert_exporter": "python",
   "pygments_lexer": "ipython3",
   "version": "3.9.7"
  }
 },
 "nbformat": 4,
 "nbformat_minor": 5
}
