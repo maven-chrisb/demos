{
 "cells": [
  {
   "cell_type": "code",
   "execution_count": 1,
   "id": "793fd0ff",
   "metadata": {},
   "outputs": [],
   "source": [
    "import numpy as np"
   ]
  },
  {
   "cell_type": "code",
   "execution_count": 2,
   "id": "c53d9976",
   "metadata": {},
   "outputs": [],
   "source": [
    "ratings = ['5 star', '1 star', '3 stars', '4 stars', '3 stars', '5 stars']"
   ]
  },
  {
   "cell_type": "code",
   "execution_count": 10,
   "id": "bc8c8ac8",
   "metadata": {},
   "outputs": [
    {
     "data": {
      "text/plain": [
       "[1, 3, 3]"
      ]
     },
     "execution_count": 10,
     "metadata": {},
     "output_type": "execute_result"
    }
   ],
   "source": [
    "[int(rating[0]) for rating in ratings if int(rating[0]) < 4]"
   ]
  },
  {
   "cell_type": "code",
   "execution_count": 9,
   "id": "45c7b4cb",
   "metadata": {},
   "outputs": [
    {
     "data": {
      "text/plain": [
       "2.3333333333333335"
      ]
     },
     "execution_count": 9,
     "metadata": {},
     "output_type": "execute_result"
    }
   ],
   "source": [
    "np.mean(numeric_ratings)"
   ]
  },
  {
   "cell_type": "code",
   "execution_count": null,
   "id": "9189bff2",
   "metadata": {},
   "outputs": [],
   "source": []
  }
 ],
 "metadata": {
  "kernelspec": {
   "display_name": "Python 3 (ipykernel)",
   "language": "python",
   "name": "python3"
  },
  "language_info": {
   "codemirror_mode": {
    "name": "ipython",
    "version": 3
   },
   "file_extension": ".py",
   "mimetype": "text/x-python",
   "name": "python",
   "nbconvert_exporter": "python",
   "pygments_lexer": "ipython3",
   "version": "3.9.7"
  }
 },
 "nbformat": 4,
 "nbformat_minor": 5
}
