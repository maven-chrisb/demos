{
 "cells": [
  {
   "cell_type": "code",
   "execution_count": 1,
   "id": "74e626cc",
   "metadata": {},
   "outputs": [],
   "source": [
    "transaction1 = ['snowboard', 'helmet', 'boots', 'hat', 'sweater', 'sweater']\n",
    "transaction2 = ['helmet', 'boots', 'skis', 'keychain', 'coffee', 'hat']\n",
    "transaction3 = ['snowboard', 'helmet', 'boots', 'ski poles']"
   ]
  },
  {
   "cell_type": "code",
   "execution_count": 2,
   "id": "949ac93a",
   "metadata": {},
   "outputs": [],
   "source": [
    "transaction1_set = set(transaction1)\n",
    "transaction2_set = set(transaction2)\n",
    "transaction3_set = set(transaction3)"
   ]
  },
  {
   "cell_type": "code",
   "execution_count": 3,
   "id": "ef6b26b4",
   "metadata": {},
   "outputs": [
    {
     "data": {
      "text/plain": [
       "{'boots', 'hat', 'helmet', 'ski poles', 'snowboard', 'sweater'}"
      ]
     },
     "execution_count": 3,
     "metadata": {},
     "output_type": "execute_result"
    }
   ],
   "source": [
    "non_sale_set = transaction1_set.union(transaction3_set)\n",
    "\n",
    "non_sale_set"
   ]
  },
  {
   "cell_type": "code",
   "execution_count": 4,
   "id": "be8f8e84",
   "metadata": {},
   "outputs": [
    {
     "data": {
      "text/plain": [
       "{'boots', 'hat', 'helmet'}"
      ]
     },
     "execution_count": 4,
     "metadata": {},
     "output_type": "execute_result"
    }
   ],
   "source": [
    "transaction2_set.intersection(non_sale_set)"
   ]
  },
  {
   "cell_type": "code",
   "execution_count": 5,
   "id": "69af93da",
   "metadata": {},
   "outputs": [
    {
     "data": {
      "text/plain": [
       "{'coffee', 'keychain', 'skis'}"
      ]
     },
     "execution_count": 5,
     "metadata": {},
     "output_type": "execute_result"
    }
   ],
   "source": [
    "transaction2_set - non_sale_set"
   ]
  },
  {
   "cell_type": "code",
   "execution_count": 7,
   "id": "3da46767",
   "metadata": {},
   "outputs": [
    {
     "data": {
      "text/plain": [
       "{'coffee', 'keychain', 'ski poles', 'skis', 'snowboard', 'sweater'}"
      ]
     },
     "execution_count": 7,
     "metadata": {},
     "output_type": "execute_result"
    }
   ],
   "source": [
    "non_sale_set.symmetric_difference(transaction2_set)"
   ]
  },
  {
   "cell_type": "code",
   "execution_count": null,
   "id": "e68ee8c3",
   "metadata": {},
   "outputs": [],
   "source": []
  }
 ],
 "metadata": {
  "kernelspec": {
   "display_name": "Python 3 (ipykernel)",
   "language": "python",
   "name": "python3"
  },
  "language_info": {
   "codemirror_mode": {
    "name": "ipython",
    "version": 3
   },
   "file_extension": ".py",
   "mimetype": "text/x-python",
   "name": "python",
   "nbconvert_exporter": "python",
   "pygments_lexer": "ipython3",
   "version": "3.9.7"
  }
 },
 "nbformat": 4,
 "nbformat_minor": 5
}
