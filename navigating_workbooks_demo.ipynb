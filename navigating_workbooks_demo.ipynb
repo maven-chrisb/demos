{
 "cells": [
  {
   "cell_type": "code",
   "execution_count": 1,
   "id": "79fd4737",
   "metadata": {},
   "outputs": [],
   "source": [
    "import openpyxl as xl"
   ]
  },
  {
   "cell_type": "code",
   "execution_count": 2,
   "id": "13ef691f",
   "metadata": {},
   "outputs": [],
   "source": [
    "wb = xl.load_workbook(filename='maven_ski_shop_data.xlsx')\n",
    "\n",
    "inventory = wb['Inventory_Levels']"
   ]
  },
  {
   "cell_type": "code",
   "execution_count": 3,
   "id": "33931d08",
   "metadata": {},
   "outputs": [
    {
     "name": "stdout",
     "output_type": "stream",
     "text": [
      "0 Quantity_in_stock\n",
      "1 100\n",
      "2 15\n",
      "3 10\n",
      "4 25\n",
      "5 8\n",
      "6 6\n",
      "7 0\n",
      "8 0\n",
      "9 1\n",
      "10 5\n",
      "11 0\n",
      "12 4\n"
     ]
    }
   ],
   "source": [
    "for i, row in enumerate(inventory['B']):\n",
    "    print(i, row.value)"
   ]
  },
  {
   "cell_type": "code",
   "execution_count": 4,
   "id": "4c49e9cf",
   "metadata": {},
   "outputs": [],
   "source": [
    "for i, row in enumerate(inventory['B']):\n",
    "    if i == 0:\n",
    "        inventory[f'C{i + 1}'].value = 'Inventory Status'\n",
    "    elif row.value > 5:\n",
    "        inventory[f'C{i + 1}'].value = 'Healthy Stock'\n",
    "    elif row.value > 0:\n",
    "        inventory[f'C{i + 1}'].value = 'Low Stock'\n",
    "    else:\n",
    "        inventory[f'C{i + 1}'].value = 'Out of Stock'"
   ]
  },
  {
   "cell_type": "code",
   "execution_count": 5,
   "id": "bdee79cf",
   "metadata": {},
   "outputs": [],
   "source": [
    "wb.save('maven_ski_shop_inventory_fix.xlsx')"
   ]
  },
  {
   "cell_type": "code",
   "execution_count": null,
   "id": "18316609",
   "metadata": {},
   "outputs": [],
   "source": []
  }
 ],
 "metadata": {
  "kernelspec": {
   "display_name": "Python 3 (ipykernel)",
   "language": "python",
   "name": "python3"
  },
  "language_info": {
   "codemirror_mode": {
    "name": "ipython",
    "version": 3
   },
   "file_extension": ".py",
   "mimetype": "text/x-python",
   "name": "python",
   "nbconvert_exporter": "python",
   "pygments_lexer": "ipython3",
   "version": "3.9.7"
  }
 },
 "nbformat": 4,
 "nbformat_minor": 5
}
