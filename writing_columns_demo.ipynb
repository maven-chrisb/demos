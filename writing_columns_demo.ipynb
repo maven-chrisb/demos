{
 "cells": [
  {
   "cell_type": "code",
   "execution_count": 1,
   "id": "79fd4737",
   "metadata": {},
   "outputs": [],
   "source": [
    "import openpyxl as xl"
   ]
  },
  {
   "cell_type": "code",
   "execution_count": 2,
   "id": "13ef691f",
   "metadata": {},
   "outputs": [],
   "source": [
    "wb = xl.load_workbook(filename='maven_ski_shop_data.xlsx')\n",
    "\n",
    "inventory = wb['Inventory_Levels']"
   ]
  },
  {
   "cell_type": "code",
   "execution_count": 4,
   "id": "f74ed11c",
   "metadata": {},
   "outputs": [
    {
     "name": "stdout",
     "output_type": "stream",
     "text": [
      "1 Quantity_in_stock\n",
      "2 100\n",
      "3 15\n",
      "4 10\n",
      "5 25\n",
      "6 8\n",
      "7 6\n",
      "8 0\n",
      "9 0\n",
      "10 1\n",
      "11 5\n",
      "12 0\n",
      "13 4\n"
     ]
    }
   ],
   "source": [
    "for i, cell in enumerate(inventory['B'], start=1):\n",
    "    print(i, cell.value)"
   ]
  },
  {
   "cell_type": "code",
   "execution_count": 5,
   "id": "e9c8341c",
   "metadata": {},
   "outputs": [],
   "source": [
    "for i, cell in enumerate(inventory['B'], start=1):\n",
    "    if i == 1:\n",
    "        inventory[f'C{i}'] = 'Inventory Status'\n",
    "    elif cell.value > 5:\n",
    "         inventory[f'C{i}'] = 'Healthy Stock'\n",
    "    elif cell.value > 0:\n",
    "         inventory[f'C{i}'] = 'Low Stock'\n",
    "    else:\n",
    "        inventory[f'C{i}'] = 'Out of Stock'"
   ]
  },
  {
   "cell_type": "code",
   "execution_count": 6,
   "id": "84eebd07",
   "metadata": {},
   "outputs": [],
   "source": [
    "wb.save('maven_ski_shop_inventory_fix.xlsx')"
   ]
  },
  {
   "cell_type": "code",
   "execution_count": null,
   "id": "301167d2",
   "metadata": {},
   "outputs": [],
   "source": []
  }
 ],
 "metadata": {
  "kernelspec": {
   "display_name": "Python 3 (ipykernel)",
   "language": "python",
   "name": "python3"
  },
  "language_info": {
   "codemirror_mode": {
    "name": "ipython",
    "version": 3
   },
   "file_extension": ".py",
   "mimetype": "text/x-python",
   "name": "python",
   "nbconvert_exporter": "python",
   "pygments_lexer": "ipython3",
   "version": "3.9.7"
  }
 },
 "nbformat": 4,
 "nbformat_minor": 5
}
