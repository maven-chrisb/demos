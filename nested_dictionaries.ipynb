{
 "cells": [
  {
   "cell_type": "code",
   "execution_count": 1,
   "id": "3e944b94",
   "metadata": {},
   "outputs": [],
   "source": [
    "economic_data = {\n",
    "    \"India\": {\n",
    "        \"Uttar Pradesh\": {\"population\": 241, \"gdp\": 220},\n",
    "        \"Rajastan\": {\"population\": 200, \"gdp\": 130},\n",
    "    },\n",
    "    \"China\": {\n",
    "        \"Guangdong\": {\"population\": 126, \"gdp\": 1960},\n",
    "        \"Fujian\": {\"population\": 42, \"gdp\": 757},\n",
    "    },\n",
    "}"
   ]
  },
  {
   "cell_type": "code",
   "execution_count": 2,
   "id": "c8029e53",
   "metadata": {},
   "outputs": [
    {
     "data": {
      "text/plain": [
       "{'Uttar Pradesh': {'population': 241, 'gdp': 220},\n",
       " 'Rajastan': {'population': 200, 'gdp': 130}}"
      ]
     },
     "execution_count": 2,
     "metadata": {},
     "output_type": "execute_result"
    }
   ],
   "source": [
    "economic_data[\"India\"]"
   ]
  },
  {
   "cell_type": "code",
   "execution_count": 3,
   "id": "633cd761",
   "metadata": {},
   "outputs": [
    {
     "data": {
      "text/plain": [
       "{'population': 200, 'gdp': 130}"
      ]
     },
     "execution_count": 3,
     "metadata": {},
     "output_type": "execute_result"
    }
   ],
   "source": [
    "economic_data[\"India\"][\"Rajastan\"]"
   ]
  },
  {
   "cell_type": "code",
   "execution_count": 5,
   "id": "26a680e6",
   "metadata": {},
   "outputs": [
    {
     "data": {
      "text/plain": [
       "200"
      ]
     },
     "execution_count": 5,
     "metadata": {},
     "output_type": "execute_result"
    }
   ],
   "source": [
    "economic_data[\"India\"][\"Rajastan\"][\"population\"]"
   ]
  },
  {
   "cell_type": "code",
   "execution_count": 8,
   "id": "38354509",
   "metadata": {},
   "outputs": [],
   "source": [
    "population = []\n",
    "\n",
    "for state in economic_data[\"India\"].values():\n",
    "    population.append(state[\"population\"])\n"
   ]
  },
  {
   "cell_type": "code",
   "execution_count": 9,
   "id": "b4038b7e",
   "metadata": {},
   "outputs": [
    {
     "data": {
      "text/plain": [
       "[241, 200]"
      ]
     },
     "execution_count": 9,
     "metadata": {},
     "output_type": "execute_result"
    }
   ],
   "source": [
    "population"
   ]
  },
  {
   "cell_type": "code",
   "execution_count": null,
   "id": "8d74905e",
   "metadata": {},
   "outputs": [],
   "source": []
  }
 ],
 "metadata": {
  "kernelspec": {
   "display_name": "Python 3 (ipykernel)",
   "language": "python",
   "name": "python3"
  },
  "language_info": {
   "codemirror_mode": {
    "name": "ipython",
    "version": 3
   },
   "file_extension": ".py",
   "mimetype": "text/x-python",
   "name": "python",
   "nbconvert_exporter": "python",
   "pygments_lexer": "ipython3",
   "version": "3.9.7"
  }
 },
 "nbformat": 4,
 "nbformat_minor": 5
}
