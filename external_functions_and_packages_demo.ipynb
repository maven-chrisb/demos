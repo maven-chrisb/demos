{
 "cells": [
  {
   "cell_type": "code",
   "execution_count": 1,
   "id": "31934155",
   "metadata": {},
   "outputs": [],
   "source": [
    "import numpy as np"
   ]
  },
  {
   "cell_type": "code",
   "execution_count": 2,
   "id": "cd319c9c",
   "metadata": {},
   "outputs": [],
   "source": [
    "subtotals = [15.98, 899.97, 799.97, 117.96, 5.99]"
   ]
  },
  {
   "cell_type": "code",
   "execution_count": 3,
   "id": "12b794cf",
   "metadata": {},
   "outputs": [
    {
     "data": {
      "text/plain": [
       "367.97400000000005"
      ]
     },
     "execution_count": 3,
     "metadata": {},
     "output_type": "execute_result"
    }
   ],
   "source": [
    "np.mean(subtotals)"
   ]
  },
  {
   "cell_type": "code",
   "execution_count": 4,
   "id": "aac2af4a",
   "metadata": {},
   "outputs": [
    {
     "name": "stdout",
     "output_type": "stream",
     "text": [
      "Collecting package metadata (current_repodata.json): done\n",
      "Solving environment: done\n",
      "\n",
      "## Package Plan ##\n",
      "\n",
      "  environment location: /Users/chrisb/opt/anaconda3\n",
      "\n",
      "  added / updated specs:\n",
      "    - matplotlib\n",
      "\n",
      "\n",
      "The following NEW packages will be INSTALLED:\n",
      "\n",
      "  brotli             pkgs/main/osx-64::brotli-1.0.9-hb1e8313_2\n",
      "  cycler             pkgs/main/noarch::cycler-0.11.0-pyhd3eb1b0_0\n",
      "  fonttools          pkgs/main/noarch::fonttools-4.25.0-pyhd3eb1b0_0\n",
      "  kiwisolver         pkgs/main/osx-64::kiwisolver-1.3.2-py39he9d5cce_0\n",
      "  matplotlib         pkgs/main/osx-64::matplotlib-3.5.1-py39hecd8cb5_1\n",
      "  matplotlib-base    pkgs/main/osx-64::matplotlib-base-3.5.1-py39hfb0c5b7_1\n",
      "  munkres            pkgs/main/noarch::munkres-1.1.4-py_0\n",
      "\n",
      "\n",
      "Preparing transaction: done\n",
      "Verifying transaction: done\n",
      "Executing transaction: done\n"
     ]
    }
   ],
   "source": [
    "import sys\n",
    "!conda install --yes --prefix {sys.prefix} matplotlib"
   ]
  },
  {
   "cell_type": "code",
   "execution_count": 5,
   "id": "8e1544e6",
   "metadata": {},
   "outputs": [],
   "source": [
    "import matplotlib.pyplot as plt"
   ]
  },
  {
   "cell_type": "code",
   "execution_count": 6,
   "id": "53b42a8a",
   "metadata": {},
   "outputs": [
    {
     "data": {
      "text/plain": [
       "[<matplotlib.lines.Line2D at 0x7fea214d4d30>]"
      ]
     },
     "execution_count": 6,
     "metadata": {},
     "output_type": "execute_result"
    },
    {
     "data": {
      "image/png": "[encoded data removed]",
      "text/plain": [
       "<Figure size 432x288 with 1 Axes>"
      ]
     },
     "metadata": {
      "needs_background": "light"
     },
     "output_type": "display_data"
    }
   ],
   "source": [
    "plt.plot(subtotals)"
   ]
  },
  {
   "cell_type": "code",
   "execution_count": null,
   "id": "14c3c79c",
   "metadata": {},
   "outputs": [],
   "source": []
  }
 ],
 "metadata": {
  "kernelspec": {
   "display_name": "Python 3 (ipykernel)",
   "language": "python",
   "name": "python3"
  },
  "language_info": {
   "codemirror_mode": {
    "name": "ipython",
    "version": 3
   },
   "file_extension": ".py",
   "mimetype": "text/x-python",
   "name": "python",
   "nbconvert_exporter": "python",
   "pygments_lexer": "ipython3",
   "version": "3.9.7"
  }
 },
 "nbformat": 4,
 "nbformat_minor": 5
}
